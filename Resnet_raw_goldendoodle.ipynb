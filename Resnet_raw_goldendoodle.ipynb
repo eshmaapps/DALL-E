{
  "cells": [
    {
      "cell_type": "markdown",
      "metadata": {
        "id": "view-in-github",
        "colab_type": "text"
      },
      "source": [
        "<a href=\"https://colab.research.google.com/github/eshmaapps/DALL-E/blob/master/Resnet_raw_goldendoodle.ipynb\" target=\"_parent\"><img src=\"https://colab.research.google.com/assets/colab-badge.svg\" alt=\"Open In Colab\"/></a>"
      ]
    },
    {
      "cell_type": "code",
      "execution_count": 5,
      "metadata": {
        "id": "Sh3dcPdWKjdF"
      },
      "outputs": [],
      "source": [
        "# Importing libraries\n",
        "import matplotlib.pyplot as plt\n",
        "import numpy as np\n",
        "import os\n",
        "import PIL\n",
        "import tensorflow as tf"
      ]
    },
    {
      "cell_type": "code",
      "source": [
        "#!pip install keras.applications\n",
        "!pip install -q streamlit\n",
        "!pip install pyngrok"
      ],
      "metadata": {
        "colab": {
          "base_uri": "https://localhost:8080/"
        },
        "id": "P1ks3wi1sW4T",
        "outputId": "b3bce061-a9b0-4b81-f153-0e32a4d5bd58"
      },
      "execution_count": null,
      "outputs": [
        {
          "output_type": "stream",
          "name": "stdout",
          "text": [
            "Looking in indexes: https://pypi.org/simple, https://us-python.pkg.dev/colab-wheels/public/simple/\n",
            "Collecting keras.applications\n",
            "  Downloading Keras_Applications-1.0.8-py3-none-any.whl (50 kB)\n",
            "\u001b[K     |████████████████████████████████| 50 kB 2.6 MB/s \n",
            "\u001b[?25hRequirement already satisfied: numpy>=1.9.1 in /usr/local/lib/python3.7/dist-packages (from keras.applications) (1.21.6)\n",
            "Requirement already satisfied: h5py in /usr/local/lib/python3.7/dist-packages (from keras.applications) (3.1.0)\n",
            "Requirement already satisfied: cached-property in /usr/local/lib/python3.7/dist-packages (from h5py->keras.applications) (1.5.2)\n",
            "Installing collected packages: keras.applications\n",
            "Successfully installed keras.applications-1.0.8\n"
          ]
        }
      ]
    },
    {
      "cell_type": "code",
      "source": [
        "from tensorflow import keras\n",
        "from keras import layers\n",
        "from keras import applications\n",
        "from tensorflow.keras.applications.resnet50 import ResNet50\n",
        "from keras.models import Sequential\n",
        "from tensorflow.keras.applications.resnet50 import preprocess_input"
      ],
      "metadata": {
        "id": "sdWxsP0BsWA1"
      },
      "execution_count": 1,
      "outputs": []
    },
    {
      "cell_type": "code",
      "source": [
        "!unzip golden.zip -d golden\n",
        "#!unzip modelweights.zip -d modelweights\n",
        "!unzip test.zip -d test"
      ],
      "metadata": {
        "id": "UrvE0CcXMaEI",
        "colab": {
          "base_uri": "https://localhost:8080/"
        },
        "outputId": "92bd9d6a-0e7c-493a-f678-cbba944c6e3e"
      },
      "execution_count": 2,
      "outputs": [
        {
          "output_type": "stream",
          "name": "stdout",
          "text": [
            "Archive:  golden.zip\n",
            "   creating: golden/golden/\n",
            "  inflating: golden/golden/.DS_Store  \n",
            "  inflating: golden/__MACOSX/golden/._.DS_Store  \n",
            "   creating: golden/golden/goldendoodle/\n",
            "   creating: golden/golden/goldenretreiver/\n",
            "  inflating: golden/golden/goldendoodle/47.jpeg  \n",
            "  inflating: golden/__MACOSX/golden/goldendoodle/._47.jpeg  \n",
            "  inflating: golden/golden/goldendoodle/Image_15.jpg  \n",
            "  inflating: golden/golden/goldendoodle/Image_29.JPG  \n",
            "  inflating: golden/golden/goldendoodle/10.jpeg  \n",
            "  inflating: golden/__MACOSX/golden/goldendoodle/._10.jpeg  \n",
            "  inflating: golden/golden/goldendoodle/Image_28.jpg  \n",
            "  inflating: golden/golden/goldendoodle/Image_14.jpg  \n",
            "  inflating: golden/golden/goldendoodle/Image_17.jpg.sb-1659046f-xbOfr6  \n",
            "  inflating: golden/__MACOSX/golden/goldendoodle/._Image_17.jpg.sb-1659046f-xbOfr6  \n",
            "  inflating: golden/golden/goldendoodle/Image_16.jpg  \n",
            "  inflating: golden/golden/goldendoodle/26.jpeg  \n",
            "  inflating: golden/__MACOSX/golden/goldendoodle/._26.jpeg  \n",
            "  inflating: golden/golden/goldendoodle/30.jpeg  \n",
            "  inflating: golden/__MACOSX/golden/goldendoodle/._30.jpeg  \n",
            "  inflating: golden/golden/goldendoodle/Image_17.png  \n",
            "  inflating: golden/__MACOSX/golden/goldendoodle/._Image_17.png  \n",
            "  inflating: golden/golden/goldendoodle/31.jpeg  \n",
            "  inflating: golden/__MACOSX/golden/goldendoodle/._31.jpeg  \n",
            "  inflating: golden/golden/goldendoodle/Image_13.jpg  \n",
            "  inflating: golden/golden/goldendoodle/.DS_Store  \n",
            "  inflating: golden/__MACOSX/golden/goldendoodle/._.DS_Store  \n",
            "  inflating: golden/golden/goldendoodle/27.jpeg  \n",
            "  inflating: golden/__MACOSX/golden/goldendoodle/._27.jpeg  \n",
            "  inflating: golden/golden/goldendoodle/Image_102.jp2  \n",
            "  inflating: golden/__MACOSX/golden/goldendoodle/._Image_102.jp2  \n",
            "  inflating: golden/golden/goldendoodle/Image_12.jpg  \n",
            "  inflating: golden/golden/goldendoodle/1.jpeg  \n",
            "  inflating: golden/__MACOSX/golden/goldendoodle/._1.jpeg  \n",
            "  inflating: golden/golden/goldendoodle/Image_38.jpg  \n",
            "  inflating: golden/golden/goldendoodle/Image_10.jpg  \n",
            "  inflating: golden/golden/goldendoodle/50.jpeg  \n",
            "  inflating: golden/__MACOSX/golden/goldendoodle/._50.jpeg  \n",
            "  inflating: golden/golden/goldendoodle/Image_101.jp2  \n",
            "  inflating: golden/__MACOSX/golden/goldendoodle/._Image_101.jp2  \n",
            "  inflating: golden/golden/goldendoodle/11.jpeg  \n",
            "  inflating: golden/__MACOSX/golden/goldendoodle/._11.jpeg  \n",
            "  inflating: golden/golden/goldendoodle/Image_11.JPG  \n",
            "  inflating: golden/golden/goldendoodle/46.jpeg  \n",
            "  inflating: golden/__MACOSX/golden/goldendoodle/._46.jpeg  \n",
            "  inflating: golden/golden/goldendoodle/Image_32.jpeg  \n",
            "  inflating: golden/golden/goldendoodle/Image_76.jpg  \n",
            "  inflating: golden/golden/goldendoodle/Image_62.jpg  \n",
            "  inflating: golden/golden/goldendoodle/Image_81.jpeg  \n",
            "  inflating: golden/golden/goldendoodle/Image_89.jpg  \n",
            "  inflating: golden/golden/goldendoodle/Image_78.jpeg  \n",
            "  inflating: golden/golden/goldendoodle/20.jpeg  \n",
            "  inflating: golden/__MACOSX/golden/goldendoodle/._20.jpeg  \n",
            "  inflating: golden/golden/goldendoodle/Image_88.jpg  \n",
            "  inflating: golden/golden/goldendoodle/Image_63.jpg  \n",
            "  inflating: golden/golden/goldendoodle/Image_77.jpg  \n",
            "  inflating: golden/golden/goldendoodle/36.jpeg  \n",
            "  inflating: golden/__MACOSX/golden/goldendoodle/._36.jpeg  \n",
            "  inflating: golden/golden/goldendoodle/41.jpeg  \n",
            "  inflating: golden/__MACOSX/golden/goldendoodle/._41.jpeg  \n",
            "  inflating: golden/golden/goldendoodle/Image_61.jpg  \n",
            "  inflating: golden/golden/goldendoodle/Image_75.jpg  \n",
            "  inflating: golden/golden/goldendoodle/Image_8.jpg  \n",
            "  inflating: golden/golden/goldendoodle/Image_49.jpg  \n",
            "  inflating: golden/golden/goldendoodle/16.jpeg  \n",
            "  inflating: golden/__MACOSX/golden/goldendoodle/._16.jpeg  \n",
            "  inflating: golden/golden/goldendoodle/Image_58.jpeg  \n",
            "  inflating: golden/__MACOSX/golden/goldendoodle/._Image_58.jpeg  \n",
            "  inflating: golden/golden/goldendoodle/Image_48.jpg  \n",
            "  inflating: golden/golden/goldendoodle/Image_9.jpg  \n",
            "  inflating: golden/golden/goldendoodle/6.jpeg  \n",
            "  inflating: golden/__MACOSX/golden/goldendoodle/._6.jpeg  \n",
            "  inflating: golden/golden/goldendoodle/Image_74.jpg  \n",
            "  inflating: golden/golden/goldendoodle/Image_60.jpg  \n",
            "  inflating: golden/golden/goldendoodle/Image_64.png  \n",
            "  inflating: golden/golden/goldendoodle/7.jpeg  \n",
            "  inflating: golden/__MACOSX/golden/goldendoodle/._7.jpeg  \n",
            "  inflating: golden/golden/goldendoodle/Image_70.jpg  \n",
            "  inflating: golden/golden/goldendoodle/17.jpeg  \n",
            "  inflating: golden/__MACOSX/golden/goldendoodle/._17.jpeg  \n",
            "  inflating: golden/golden/goldendoodle/Image_71.jpg  \n",
            "  inflating: golden/golden/goldendoodle/Image_65.jpg  \n",
            "  inflating: golden/golden/goldendoodle/Image_59.jpg  \n",
            "  inflating: golden/golden/goldendoodle/40.jpeg  \n",
            "  inflating: golden/__MACOSX/golden/goldendoodle/._40.jpeg  \n",
            "  inflating: golden/golden/goldendoodle/37.jpeg  \n",
            "  inflating: golden/__MACOSX/golden/goldendoodle/._37.jpeg  \n",
            "  inflating: golden/golden/goldendoodle/Image_73.jpg  \n",
            "  inflating: golden/golden/goldendoodle/21.jpeg  \n",
            "  inflating: golden/__MACOSX/golden/goldendoodle/._21.jpeg  \n",
            "  inflating: golden/golden/goldendoodle/Image_99.jpg  \n",
            "  inflating: golden/golden/goldendoodle/Image_66.jpg  \n",
            "  inflating: golden/golden/goldendoodle/Image_72.jpg  \n",
            "  inflating: golden/golden/goldendoodle/34.jpeg  \n",
            "  inflating: golden/__MACOSX/golden/goldendoodle/._34.jpeg  \n",
            "  inflating: golden/golden/goldendoodle/Image_57.jpg  \n",
            "  inflating: golden/golden/goldendoodle/Image_2.jpg  \n",
            "  inflating: golden/golden/goldendoodle/Image_43.jpg  \n",
            "  inflating: golden/golden/goldendoodle/Image_80.jpg  \n",
            "  inflating: golden/golden/goldendoodle/8.jpeg  \n",
            "  inflating: golden/__MACOSX/golden/goldendoodle/._8.jpeg  \n",
            "  inflating: golden/golden/goldendoodle/22.jpeg  \n",
            "  inflating: golden/__MACOSX/golden/goldendoodle/._22.jpeg  \n",
            "  inflating: golden/golden/goldendoodle/Image_95.jpg  \n",
            "  inflating: golden/golden/goldendoodle/18.jpeg  \n",
            "  inflating: golden/__MACOSX/golden/goldendoodle/._18.jpeg  \n",
            "  inflating: golden/golden/goldendoodle/Image_56.jpg  \n",
            "  inflating: golden/golden/goldendoodle/Image_3.jpg  \n",
            "  inflating: golden/golden/goldendoodle/38.jpeg  \n",
            "  inflating: golden/__MACOSX/golden/goldendoodle/._38.jpeg  \n",
            "  inflating: golden/golden/goldendoodle/Image_40.jpg  \n",
            "  inflating: golden/golden/goldendoodle/Image_1.jpg  \n",
            "  inflating: golden/golden/goldendoodle/Image_54.jpg  \n",
            "  inflating: golden/golden/goldendoodle/4.jpeg  \n",
            "  inflating: golden/__MACOSX/golden/goldendoodle/._4.jpeg  \n",
            "  inflating: golden/golden/goldendoodle/Image_68.jpg  \n",
            "  inflating: golden/golden/goldendoodle/Image_83.jpg  \n",
            "  inflating: golden/golden/goldendoodle/Image_97.jpg  \n",
            "  inflating: golden/golden/goldendoodle/Image_21.jpeg  \n",
            "  inflating: golden/golden/goldendoodle/Image_96.jpg  \n",
            "  inflating: golden/golden/goldendoodle/Image_82.jpg  \n",
            "  inflating: golden/golden/goldendoodle/14.jpeg  \n",
            "  inflating: golden/__MACOSX/golden/goldendoodle/._14.jpeg  \n",
            "  inflating: golden/golden/goldendoodle/Image_69.jpg  \n",
            "  inflating: golden/golden/goldendoodle/Image_55.jpg  \n",
            "  inflating: golden/golden/goldendoodle/43.jpeg  \n",
            "  inflating: golden/__MACOSX/golden/goldendoodle/._43.jpeg  \n",
            "  inflating: golden/golden/goldendoodle/Image_100.jpg  \n",
            "  inflating: golden/golden/goldendoodle/42.jpeg  \n",
            "  inflating: golden/__MACOSX/golden/goldendoodle/._42.jpeg  \n",
            "  inflating: golden/golden/goldendoodle/Image_79.jpg  \n",
            "  inflating: golden/golden/goldendoodle/Image_45.jpg  \n",
            "  inflating: golden/golden/goldendoodle/Image_4.jpg  \n",
            "  inflating: golden/golden/goldendoodle/Image_86.jpg  \n",
            "  inflating: golden/golden/goldendoodle/Image_92.jpg  \n",
            "  inflating: golden/golden/goldendoodle/15.jpeg  \n",
            "  inflating: golden/__MACOSX/golden/goldendoodle/._15.jpeg  \n",
            "  inflating: golden/golden/goldendoodle/Image_98.jpeg  \n",
            "  inflating: golden/golden/goldendoodle/Image_93.jpg  \n",
            "  inflating: golden/golden/goldendoodle/Image_87.jpg  \n",
            "  inflating: golden/golden/goldendoodle/Image_50.jpg  \n",
            "  inflating: golden/golden/goldendoodle/Image_5.jpg  \n",
            "  inflating: golden/golden/goldendoodle/5.jpeg  \n",
            "  inflating: golden/__MACOSX/golden/goldendoodle/._5.jpeg  \n",
            "  inflating: golden/golden/goldendoodle/39.jpeg  \n",
            "  inflating: golden/__MACOSX/golden/goldendoodle/._39.jpeg  \n",
            "  inflating: golden/golden/goldendoodle/Image_7.jpg  \n",
            "  inflating: golden/golden/goldendoodle/19.jpeg  \n",
            "  inflating: golden/__MACOSX/golden/goldendoodle/._19.jpeg  \n",
            "  inflating: golden/golden/goldendoodle/Image_52.jpg  \n",
            "  inflating: golden/golden/goldendoodle/Image_46.jpg  \n",
            "  inflating: golden/golden/goldendoodle/Image_91.jpg  \n",
            "  inflating: golden/golden/goldendoodle/Image_94.jpeg  \n",
            "  inflating: golden/golden/goldendoodle/23.jpeg  \n",
            "  inflating: golden/__MACOSX/golden/goldendoodle/._23.jpeg  \n",
            "  inflating: golden/golden/goldendoodle/Image_90.jpg  \n",
            "  inflating: golden/golden/goldendoodle/9.jpeg  \n",
            "  inflating: golden/__MACOSX/golden/goldendoodle/._9.jpeg  \n",
            "  inflating: golden/golden/goldendoodle/Image_47.jpg  \n",
            "  inflating: golden/golden/goldendoodle/Image_6.jpg  \n",
            "  inflating: golden/golden/goldendoodle/Image_53.jpg  \n",
            "  inflating: golden/golden/goldendoodle/Image_41.jpeg  \n",
            "  inflating: golden/golden/goldendoodle/35.jpeg  \n",
            "  inflating: golden/__MACOSX/golden/goldendoodle/._35.jpeg  \n",
            "  inflating: golden/golden/goldendoodle/Image_34.jpg  \n",
            "  inflating: golden/golden/goldendoodle/Image_20.jpg  \n",
            "  inflating: golden/golden/goldendoodle/2.jpeg  \n",
            "  inflating: golden/__MACOSX/golden/goldendoodle/._2.jpeg  \n",
            "  inflating: golden/golden/goldendoodle/28.jpeg  \n",
            "  inflating: golden/__MACOSX/golden/goldendoodle/._28.jpeg  \n",
            "  inflating: golden/golden/goldendoodle/12.jpeg  \n",
            "  inflating: golden/__MACOSX/golden/goldendoodle/._12.jpeg  \n",
            "  inflating: golden/golden/goldendoodle/Image_35.jpg  \n",
            "  inflating: golden/golden/goldendoodle/45.jpeg  \n",
            "  inflating: golden/__MACOSX/golden/goldendoodle/._45.jpeg  \n",
            "  inflating: golden/golden/goldendoodle/32.jpeg  \n",
            "  inflating: golden/__MACOSX/golden/goldendoodle/._32.jpeg  \n",
            "  inflating: golden/golden/goldendoodle/Image_37.jpg  \n",
            "  inflating: golden/golden/goldendoodle/Image_58.jpg.sb-1659046f-epsods  \n",
            "  inflating: golden/__MACOSX/golden/goldendoodle/._Image_58.jpg.sb-1659046f-epsods  \n",
            "  inflating: golden/golden/goldendoodle/24.jpeg  \n",
            "  inflating: golden/__MACOSX/golden/goldendoodle/._24.jpeg  \n",
            "  inflating: golden/golden/goldendoodle/Image_85.jpeg  \n",
            "  inflating: golden/golden/goldendoodle/Image_36.jpg  \n",
            "  inflating: golden/golden/goldendoodle/Image_22.jpg  \n",
            "  inflating: golden/golden/goldendoodle/49.jpeg  \n",
            "  inflating: golden/__MACOSX/golden/goldendoodle/._49.jpeg  \n",
            "  inflating: golden/golden/goldendoodle/Image_73 copy.jpg  \n",
            "  inflating: golden/golden/goldendoodle/48.jpeg  \n",
            "  inflating: golden/__MACOSX/golden/goldendoodle/._48.jpeg  \n",
            "  inflating: golden/golden/goldendoodle/Image_84.jpeg  \n",
            "  inflating: golden/golden/goldendoodle/Image_26.JPG  \n",
            "  inflating: golden/golden/goldendoodle/Image_51.jpeg  \n",
            "  inflating: golden/golden/goldendoodle/25.jpeg  \n",
            "  inflating: golden/__MACOSX/golden/goldendoodle/._25.jpeg  \n",
            "  inflating: golden/golden/goldendoodle/Image_33.jpg  \n",
            "  inflating: golden/golden/goldendoodle/Image_27.jpg  \n",
            "  inflating: golden/golden/goldendoodle/33.jpeg  \n",
            "  inflating: golden/__MACOSX/golden/goldendoodle/._33.jpeg  \n",
            "  inflating: golden/golden/goldendoodle/Image_30.jpeg  \n",
            "  inflating: golden/golden/goldendoodle/44.jpeg  \n",
            "  inflating: golden/__MACOSX/golden/goldendoodle/._44.jpeg  \n",
            "  inflating: golden/golden/goldendoodle/Image_19.jpg  \n",
            "  inflating: golden/golden/goldendoodle/Image_31.jpg  \n",
            "  inflating: golden/golden/goldendoodle/13.jpeg  \n",
            "  inflating: golden/__MACOSX/golden/goldendoodle/._13.jpeg  \n",
            "  inflating: golden/golden/goldendoodle/29.jpeg  \n",
            "  inflating: golden/__MACOSX/golden/goldendoodle/._29.jpeg  \n",
            "  inflating: golden/golden/goldendoodle/Image_24.jpg  \n",
            "  inflating: golden/golden/goldendoodle/Image_18.jpg  \n",
            "  inflating: golden/golden/goldendoodle/3.jpeg  \n",
            "  inflating: golden/__MACOSX/golden/goldendoodle/._3.jpeg  \n",
            "  inflating: golden/golden/goldenretreiver/47.jpeg  \n",
            "  inflating: golden/__MACOSX/golden/goldenretreiver/._47.jpeg  \n",
            "  inflating: golden/golden/goldenretreiver/Image_15.jpg  \n",
            "  inflating: golden/golden/goldenretreiver/Image_29.jpg  \n",
            "  inflating: golden/golden/goldenretreiver/10.jpeg  \n",
            "  inflating: golden/__MACOSX/golden/goldenretreiver/._10.jpeg  \n",
            "  inflating: golden/golden/goldenretreiver/Image_111.jp2  \n",
            "  inflating: golden/__MACOSX/golden/goldenretreiver/._Image_111.jp2  \n",
            "  inflating: golden/golden/goldenretreiver/Image_105.jp2  \n",
            "  inflating: golden/__MACOSX/golden/goldenretreiver/._Image_105.jp2  \n",
            "  inflating: golden/golden/goldenretreiver/Image_69.jp2  \n",
            "  inflating: golden/__MACOSX/golden/goldenretreiver/._Image_69.jp2  \n",
            "  inflating: golden/golden/goldenretreiver/Image_96.jp2  \n",
            "  inflating: golden/__MACOSX/golden/goldenretreiver/._Image_96.jp2  \n",
            "  inflating: golden/golden/goldenretreiver/Image_104.jp2  \n",
            "  inflating: golden/__MACOSX/golden/goldenretreiver/._Image_104.jp2  \n",
            "  inflating: golden/golden/goldenretreiver/Image_110.jp2  \n",
            "  inflating: golden/__MACOSX/golden/goldenretreiver/._Image_110.jp2  \n",
            "  inflating: golden/golden/goldenretreiver/Image_28.jpg  \n",
            "  inflating: golden/golden/goldenretreiver/Image_16.jpg  \n",
            "  inflating: golden/golden/goldenretreiver/Image_106.jp2  \n",
            "  inflating: golden/__MACOSX/golden/goldenretreiver/._Image_106.jp2  \n",
            "  inflating: golden/golden/goldenretreiver/26.jpeg  \n",
            "  inflating: golden/__MACOSX/golden/goldenretreiver/._26.jpeg  \n",
            "  inflating: golden/golden/goldenretreiver/Image_113.jp2  \n",
            "  inflating: golden/__MACOSX/golden/goldenretreiver/._Image_113.jp2  \n",
            "  inflating: golden/golden/goldenretreiver/Image_107.jp2  \n",
            "  inflating: golden/__MACOSX/golden/goldenretreiver/._Image_107.jp2  \n",
            "  inflating: golden/golden/goldenretreiver/Image_17.jpg  \n",
            "  inflating: golden/golden/goldenretreiver/30.jpeg  \n",
            "  inflating: golden/__MACOSX/golden/goldenretreiver/._30.jpeg  \n",
            "  inflating: golden/golden/goldenretreiver/31.jpeg  \n",
            "  inflating: golden/__MACOSX/golden/goldenretreiver/._31.jpeg  \n",
            "  inflating: golden/golden/goldenretreiver/Image_103.jp2  \n",
            "  inflating: golden/__MACOSX/golden/goldenretreiver/._Image_103.jp2  \n",
            "  inflating: golden/golden/goldenretreiver/Image_117.jp2  \n",
            "  inflating: golden/__MACOSX/golden/goldenretreiver/._Image_117.jp2  \n",
            "  inflating: golden/golden/goldenretreiver/.DS_Store  \n",
            "  inflating: golden/__MACOSX/golden/goldenretreiver/._.DS_Store  \n",
            "  inflating: golden/golden/goldenretreiver/27.jpeg  \n",
            "  inflating: golden/__MACOSX/golden/goldenretreiver/._27.jpeg  \n",
            "  inflating: golden/golden/goldenretreiver/Image_116.jp2  \n",
            "  inflating: golden/__MACOSX/golden/goldenretreiver/._Image_116.jp2  \n",
            "  inflating: golden/golden/goldenretreiver/Image_102.jp2  \n",
            "  inflating: golden/__MACOSX/golden/goldenretreiver/._Image_102.jp2  \n",
            "  inflating: golden/golden/goldenretreiver/1.jpeg  \n",
            "  inflating: golden/__MACOSX/golden/goldenretreiver/._1.jpeg  \n",
            "  inflating: golden/golden/goldenretreiver/Image_38.jpg  \n",
            "  inflating: golden/golden/goldenretreiver/Image_114.jp2  \n",
            "  inflating: golden/__MACOSX/golden/goldenretreiver/._Image_114.jp2  \n",
            "  inflating: golden/golden/goldenretreiver/50.jpeg  \n",
            "  inflating: golden/__MACOSX/golden/goldenretreiver/._50.jpeg  \n",
            "  inflating: golden/golden/goldenretreiver/Image_50.jp2  \n",
            "  inflating: golden/__MACOSX/golden/goldenretreiver/._Image_50.jp2  \n",
            "  inflating: golden/golden/goldenretreiver/Image_5.jp2  \n",
            "  inflating: golden/__MACOSX/golden/goldenretreiver/._Image_5.jp2  \n",
            "  inflating: golden/golden/goldenretreiver/Image_101.jp2  \n",
            "  inflating: golden/__MACOSX/golden/goldenretreiver/._Image_101.jp2  \n",
            "  inflating: golden/golden/goldenretreiver/Image_115.jp2  \n",
            "  inflating: golden/__MACOSX/golden/goldenretreiver/._Image_115.jp2  \n",
            "  inflating: golden/golden/goldenretreiver/11.jpeg  \n",
            "  inflating: golden/__MACOSX/golden/goldenretreiver/._11.jpeg  \n",
            "  inflating: golden/golden/goldenretreiver/Image_39.JPG  \n",
            "  inflating: golden/golden/goldenretreiver/Image_11.png  \n",
            "  inflating: golden/__MACOSX/golden/goldenretreiver/._Image_11.png  \n",
            "  inflating: golden/golden/goldenretreiver/46.jpeg  \n",
            "  inflating: golden/__MACOSX/golden/goldenretreiver/._46.jpeg  \n",
            "  inflating: golden/golden/goldenretreiver/Image_62.png  \n",
            "  inflating: golden/__MACOSX/golden/goldenretreiver/._Image_62.png  \n",
            "  inflating: golden/golden/goldenretreiver/Image_76.jpg  \n",
            "  inflating: golden/golden/goldenretreiver/20.jpeg  \n",
            "  inflating: golden/__MACOSX/golden/goldenretreiver/._20.jpeg  \n",
            "  inflating: golden/golden/goldenretreiver/Image_88.jpg  \n",
            "  inflating: golden/golden/goldenretreiver/36.jpeg  \n",
            "  inflating: golden/__MACOSX/golden/goldenretreiver/._36.jpeg  \n",
            "  inflating: golden/golden/goldenretreiver/41.jpeg  \n",
            "  inflating: golden/__MACOSX/golden/goldenretreiver/._41.jpeg  \n",
            "  inflating: golden/golden/goldenretreiver/Image_61.jpg  \n",
            "  inflating: golden/golden/goldenretreiver/Image_75.jpg  \n",
            "  inflating: golden/golden/goldenretreiver/Image_8.jpg  \n",
            "  inflating: golden/golden/goldenretreiver/Image_49.jpg  \n",
            "  inflating: golden/golden/goldenretreiver/16.jpeg  \n",
            "  inflating: golden/__MACOSX/golden/goldenretreiver/._16.jpeg  \n",
            "  inflating: golden/golden/goldenretreiver/Image_48.jpg  \n",
            "  inflating: golden/golden/goldenretreiver/6.jpeg  \n",
            "  inflating: golden/__MACOSX/golden/goldenretreiver/._6.jpeg  \n",
            "  inflating: golden/golden/goldenretreiver/Image_74.jpg  \n",
            "  inflating: golden/golden/goldenretreiver/Image_60.jpg  \n",
            "  inflating: golden/golden/goldenretreiver/Image_58.png  \n",
            "  inflating: golden/__MACOSX/golden/goldenretreiver/._Image_58.png  \n",
            "  inflating: golden/golden/goldenretreiver/7.jpeg  \n",
            "  inflating: golden/__MACOSX/golden/goldenretreiver/._7.jpeg  \n",
            "  inflating: golden/golden/goldenretreiver/Image_64.jpg  \n",
            "  inflating: golden/golden/goldenretreiver/18].jpeg  \n",
            "  inflating: golden/__MACOSX/golden/goldenretreiver/._18].jpeg  \n",
            "  inflating: golden/golden/goldenretreiver/Image_19.jp2  \n",
            "  inflating: golden/__MACOSX/golden/goldenretreiver/._Image_19.jp2  \n",
            "  inflating: golden/golden/goldenretreiver/17.jpeg  \n",
            "  inflating: golden/__MACOSX/golden/goldenretreiver/._17.jpeg  \n",
            "  inflating: golden/golden/goldenretreiver/Image_71.jpg  \n",
            "  inflating: golden/golden/goldenretreiver/Image_65.jpg  \n",
            "  inflating: golden/golden/goldenretreiver/Image_59.jpg  \n",
            "  inflating: golden/golden/goldenretreiver/40.jpeg  \n",
            "  inflating: golden/__MACOSX/golden/goldenretreiver/._40.jpeg  \n",
            "  inflating: golden/golden/goldenretreiver/37.jpeg  \n",
            "  inflating: golden/__MACOSX/golden/goldenretreiver/._37.jpeg  \n",
            "  inflating: golden/golden/goldenretreiver/Image_98.jpg  \n",
            "  inflating: golden/golden/goldenretreiver/21.jpeg  \n",
            "  inflating: golden/__MACOSX/golden/goldenretreiver/._21.jpeg  \n",
            "  inflating: golden/golden/goldenretreiver/Image_99.jpg  \n",
            "  inflating: golden/golden/goldenretreiver/Image_66.jpg  \n",
            "  inflating: golden/golden/goldenretreiver/Image_72.jpg  \n",
            "  inflating: golden/golden/goldenretreiver/34.jpeg  \n",
            "  inflating: golden/__MACOSX/golden/goldenretreiver/._34.jpeg  \n",
            "  inflating: golden/golden/goldenretreiver/Image_57.jpg  \n",
            "  inflating: golden/golden/goldenretreiver/Image_2.jpg  \n",
            "  inflating: golden/golden/goldenretreiver/Image_43.jpg  \n",
            "  inflating: golden/golden/goldenretreiver/Image_80.jpg  \n",
            "  inflating: golden/golden/goldenretreiver/8.jpeg  \n",
            "  inflating: golden/__MACOSX/golden/goldenretreiver/._8.jpeg  \n",
            "  inflating: golden/golden/goldenretreiver/22.jpeg  \n",
            "  inflating: golden/__MACOSX/golden/goldenretreiver/._22.jpeg  \n",
            "  inflating: golden/golden/goldenretreiver/Image_42.jpg  \n",
            "  inflating: golden/golden/goldenretreiver/Image_3.jpg  \n",
            "  inflating: golden/golden/goldenretreiver/38.jpeg  \n",
            "  inflating: golden/__MACOSX/golden/goldenretreiver/._38.jpeg  \n",
            "  inflating: golden/golden/goldenretreiver/Image_1.jpg  \n",
            "  inflating: golden/golden/goldenretreiver/Image_54.jpg  \n",
            "  inflating: golden/golden/goldenretreiver/4.jpeg  \n",
            "  inflating: golden/__MACOSX/golden/goldenretreiver/._4.jpeg  \n",
            "  inflating: golden/golden/goldenretreiver/Image_68.JPG  \n",
            "  inflating: golden/golden/goldenretreiver/Image_83.jpg  \n",
            "  inflating: golden/golden/goldenretreiver/Image_82.jpg  \n",
            "  inflating: golden/golden/goldenretreiver/14.jpeg  \n",
            "  inflating: golden/__MACOSX/golden/goldenretreiver/._14.jpeg  \n",
            "  inflating: golden/golden/goldenretreiver/Image_55.jpg  \n",
            "  inflating: golden/golden/goldenretreiver/Image_69.png  \n",
            "  inflating: golden/__MACOSX/golden/goldenretreiver/._Image_69.png  \n",
            "  inflating: golden/golden/goldenretreiver/43.jpeg  \n",
            "  inflating: golden/__MACOSX/golden/goldenretreiver/._43.jpeg  \n",
            "  inflating: golden/golden/goldenretreiver/Image_96.png  \n",
            "  inflating: golden/__MACOSX/golden/goldenretreiver/._Image_96.png  \n",
            "  inflating: golden/golden/goldenretreiver/42.jpeg  \n",
            "  inflating: golden/__MACOSX/golden/goldenretreiver/._42.jpeg  \n",
            "  inflating: golden/golden/goldenretreiver/Image_79.jpg  \n",
            "  inflating: golden/golden/goldenretreiver/Image_45.jpg  \n",
            "  inflating: golden/golden/goldenretreiver/Image_51.jpg  \n",
            "  inflating: golden/golden/goldenretreiver/Image_4.jpg  \n",
            "  inflating: golden/golden/goldenretreiver/15.jpeg  \n",
            "  inflating: golden/__MACOSX/golden/goldenretreiver/._15.jpeg  \n",
            "  inflating: golden/golden/goldenretreiver/Image_11.jp2  \n",
            "  inflating: golden/__MACOSX/golden/goldenretreiver/._Image_11.jp2  \n",
            "  inflating: golden/golden/goldenretreiver/Image_93.jpg  \n",
            "  inflating: golden/golden/goldenretreiver/Image_44.jpg  \n",
            "  inflating: golden/golden/goldenretreiver/5.jpeg  \n",
            "  inflating: golden/__MACOSX/golden/goldenretreiver/._5.jpeg  \n",
            "  inflating: golden/golden/goldenretreiver/Image_78.jpg  \n",
            "  inflating: golden/golden/goldenretreiver/Image_50.png  \n",
            "  inflating: golden/__MACOSX/golden/goldenretreiver/._Image_50.png  \n",
            "  inflating: golden/golden/goldenretreiver/Image_5.png  \n",
            "  inflating: golden/__MACOSX/golden/goldenretreiver/._Image_5.png  \n",
            "  inflating: golden/golden/goldenretreiver/39.jpeg  \n",
            "  inflating: golden/__MACOSX/golden/goldenretreiver/._39.jpeg  \n",
            "  inflating: golden/golden/goldenretreiver/Image_7.jpg  \n",
            "  inflating: golden/golden/goldenretreiver/19.jpeg  \n",
            "  inflating: golden/__MACOSX/golden/goldenretreiver/._19.jpeg  \n",
            "  inflating: golden/golden/goldenretreiver/Image_52.jpg  \n",
            "  inflating: golden/golden/goldenretreiver/Image_46.jpg  \n",
            "  inflating: golden/golden/goldenretreiver/Image_91.jpg  \n",
            "  inflating: golden/golden/goldenretreiver/23.jpeg  \n",
            "  inflating: golden/__MACOSX/golden/goldenretreiver/._23.jpeg  \n",
            "  inflating: golden/golden/goldenretreiver/Image_84.jpg  \n",
            "  inflating: golden/golden/goldenretreiver/9.jpeg  \n",
            "  inflating: golden/__MACOSX/golden/goldenretreiver/._9.jpeg  \n",
            "  inflating: golden/golden/goldenretreiver/Image_47.jpg  \n",
            "  inflating: golden/golden/goldenretreiver/Image_6.jpg  \n",
            "  inflating: golden/golden/goldenretreiver/Image_53.jpg  \n",
            "  inflating: golden/golden/goldenretreiver/35.jpeg  \n",
            "  inflating: golden/__MACOSX/golden/goldenretreiver/._35.jpeg  \n",
            "  inflating: golden/golden/goldenretreiver/Image_20.jpg  \n",
            "  inflating: golden/golden/goldenretreiver/2.jpeg  \n",
            "  inflating: golden/__MACOSX/golden/goldenretreiver/._2.jpeg  \n",
            "  inflating: golden/golden/goldenretreiver/Image_118.jp2  \n",
            "  inflating: golden/__MACOSX/golden/goldenretreiver/._Image_118.jp2  \n",
            "  inflating: golden/golden/goldenretreiver/28.jpeg  \n",
            "  inflating: golden/__MACOSX/golden/goldenretreiver/._28.jpeg  \n",
            "  inflating: golden/golden/goldenretreiver/12.jpeg  \n",
            "  inflating: golden/__MACOSX/golden/goldenretreiver/._12.jpeg  \n",
            "  inflating: golden/golden/goldenretreiver/Image_35.jpg  \n",
            "  inflating: golden/golden/goldenretreiver/45.jpeg  \n",
            "  inflating: golden/__MACOSX/golden/goldenretreiver/._45.jpeg  \n",
            "  inflating: golden/golden/goldenretreiver/32.jpeg  \n",
            "  inflating: golden/__MACOSX/golden/goldenretreiver/._32.jpeg  \n",
            "  inflating: golden/golden/goldenretreiver/Image_23.jpg  \n",
            "  inflating: golden/golden/goldenretreiver/24.jpeg  \n",
            "  inflating: golden/__MACOSX/golden/goldenretreiver/._24.jpeg  \n",
            "  inflating: golden/golden/goldenretreiver/Image_62.jp2  \n",
            "  inflating: golden/__MACOSX/golden/goldenretreiver/._Image_62.jp2  \n",
            "  inflating: golden/golden/goldenretreiver/Image_63.jp2  \n",
            "  inflating: golden/__MACOSX/golden/goldenretreiver/._Image_63.jp2  \n",
            "  inflating: golden/golden/goldenretreiver/Image_22.jpg  \n",
            "  inflating: golden/golden/goldenretreiver/49.jpeg  \n",
            "  inflating: golden/__MACOSX/golden/goldenretreiver/._49.jpeg  \n",
            "  inflating: golden/golden/goldenretreiver/48.jpeg  \n",
            "  inflating: golden/__MACOSX/golden/goldenretreiver/._48.jpeg  \n",
            "  inflating: golden/golden/goldenretreiver/25.jpeg  \n",
            "  inflating: golden/__MACOSX/golden/goldenretreiver/._25.jpeg  \n",
            "  inflating: golden/golden/goldenretreiver/33.jpeg  \n",
            "  inflating: golden/__MACOSX/golden/goldenretreiver/._33.jpeg  \n",
            "  inflating: golden/golden/goldenretreiver/Image_19.png  \n",
            "  inflating: golden/__MACOSX/golden/goldenretreiver/._Image_19.png  \n",
            "  inflating: golden/golden/goldenretreiver/44.jpeg  \n",
            "  inflating: golden/__MACOSX/golden/goldenretreiver/._44.jpeg  \n",
            "  inflating: golden/golden/goldenretreiver/13.jpeg  \n",
            "  inflating: golden/__MACOSX/golden/goldenretreiver/._13.jpeg  \n",
            "  inflating: golden/golden/goldenretreiver/Image_109.jp2  \n",
            "  inflating: golden/__MACOSX/golden/goldenretreiver/._Image_109.jp2  \n",
            "  inflating: golden/golden/goldenretreiver/Image_58.jp2  \n",
            "  inflating: golden/__MACOSX/golden/goldenretreiver/._Image_58.jp2  \n",
            "  inflating: golden/golden/goldenretreiver/29.jpeg  \n",
            "  inflating: golden/__MACOSX/golden/goldenretreiver/._29.jpeg  \n",
            "  inflating: golden/golden/goldenretreiver/Image_30.jpg  \n",
            "  inflating: golden/golden/goldenretreiver/Image_18.jpg  \n",
            "  inflating: golden/golden/goldenretreiver/3.jpeg  \n",
            "  inflating: golden/__MACOSX/golden/goldenretreiver/._3.jpeg  \n",
            "Archive:  test.zip\n",
            "   creating: test/test/\n",
            "  inflating: test/test/justin-aikin-KFJuCzJiQYU-unsplash.jpg  \n",
            "  inflating: test/__MACOSX/test/._justin-aikin-KFJuCzJiQYU-unsplash.jpg  \n",
            "  inflating: test/test/ethan-richardson-6VNX1UfCo-4-unsplash.jpg  \n",
            "  inflating: test/__MACOSX/test/._ethan-richardson-6VNX1UfCo-4-unsplash.jpg  \n",
            "  inflating: test/test/rosalie-barley-iAxF2gdRadc-unsplash.jpg  \n",
            "  inflating: test/__MACOSX/test/._rosalie-barley-iAxF2gdRadc-unsplash.jpg  \n",
            "  inflating: test/test/david-moynihan-BT_QM4CpnNE-unsplash.jpg  \n",
            "  inflating: test/__MACOSX/test/._david-moynihan-BT_QM4CpnNE-unsplash.jpg  \n",
            "  inflating: test/test/shayna-douglas-rFao8fcvTdY-unsplash.jpg  \n",
            "  inflating: test/__MACOSX/test/._shayna-douglas-rFao8fcvTdY-unsplash.jpg  \n",
            "  inflating: test/test/will-rust-8-rStmFSRBc-unsplash.jpg  \n",
            "  inflating: test/__MACOSX/test/._will-rust-8-rStmFSRBc-unsplash.jpg  \n"
          ]
        }
      ]
    },
    {
      "cell_type": "code",
      "execution_count": 3,
      "metadata": {
        "colab": {
          "base_uri": "https://localhost:8080/"
        },
        "id": "atlldUvSKjdG",
        "outputId": "c38e8f73-5573-4fc5-9af9-021f9d48ec1d"
      },
      "outputs": [
        {
          "output_type": "stream",
          "name": "stdout",
          "text": [
            "291\n"
          ]
        }
      ],
      "source": [
        "# importing flower dataset\n",
        "import pathlib\n",
        "  \n",
        "dataset_url = \"/content/golden/golden/\"\n",
        "data_dir = pathlib.Path(dataset_url)\n",
        "\n",
        "image_count = len(list(data_dir.glob('golden*/*.*')))\n",
        "print(image_count)\n",
        "\n",
        "dogs = list(data_dir.glob('goldendoodle/*'))\n"
      ]
    },
    {
      "cell_type": "code",
      "source": [
        "PIL.Image.open(str(dogs[0]))"
      ],
      "metadata": {
        "id": "v4LO5HOQNMBX"
      },
      "execution_count": null,
      "outputs": []
    },
    {
      "cell_type": "code",
      "execution_count": 6,
      "metadata": {
        "id": "QGbAyp1vKjdH",
        "colab": {
          "base_uri": "https://localhost:8080/"
        },
        "outputId": "b3c8414c-5839-4c37-c291-23f55fda80d9"
      },
      "outputs": [
        {
          "output_type": "stream",
          "name": "stdout",
          "text": [
            "Found 260 files belonging to 2 classes.\n",
            "Using 208 files for training.\n",
            "Found 260 files belonging to 2 classes.\n",
            "Using 52 files for validation.\n",
            "['goldendoodle', 'goldenretreiver']\n"
          ]
        }
      ],
      "source": [
        "# Training split\n",
        "train_ds = tf.keras.utils.image_dataset_from_directory(\n",
        "    data_dir,\n",
        "    validation_split=0.2,\n",
        "    subset=\"training\",\n",
        "    seed=123,\n",
        "    image_size=(256, 256),\n",
        "    batch_size=32)\n",
        "\n",
        "# Testing or Validation split\n",
        "val_ds = tf.keras.utils.image_dataset_from_directory(\n",
        "    data_dir,\n",
        "    validation_split=0.2,\n",
        "    subset=\"validation\",\n",
        "    seed=123,\n",
        "    image_size=(256,256),\n",
        "    batch_size=32)\n",
        "\n",
        "class_names = train_ds.class_names\n",
        "print(class_names)"
      ]
    },
    {
      "cell_type": "code",
      "execution_count": null,
      "metadata": {
        "id": "f6tHioRcKjdH"
      },
      "outputs": [],
      "source": [
        "\n",
        "import matplotlib.pyplot as plt\n",
        "plt.figure(figsize=(10, 10))\n",
        "for images, labels in train_ds.take(1):\n",
        "    for i in range(25):\n",
        "        ax = plt.subplot(5, 5, i + 1)\n",
        "        plt.imshow(images[i].numpy().astype(\"uint8\"))\n",
        "        plt.title(class_names[labels[i]])\n",
        "        plt.axis(\"off\")"
      ]
    },
    {
      "cell_type": "code",
      "source": [
        "IMG_WIDTH = 256\n",
        "IMG_HEIGHT =  256\n",
        "NUM_CLASSES = 2\n",
        "from tensorflow.keras.layers import Activation, Input, GlobalAveragePooling2D, Dense, Dropout, Flatten\n",
        "from tensorflow.keras.applications.resnet50 import ResNet50\n",
        "from tensorflow.keras.models import Model\n",
        "from tensorflow.keras.layers import Activation, Input, GlobalAveragePooling2D, Dense, Dropout, Flatten\n",
        "\n",
        "# Import the pretrained model without the top classification layer\n",
        "base_model = ResNet50(include_top=False,\n",
        "                      input_shape=(IMG_WIDTH, IMG_HEIGHT, 3))\n",
        "\n",
        "# Freeze all layers except for the last 8 layers that will be retrained\n",
        "for layer in base_model.layers[:-8]:\n",
        "    layer.trainable = False\n",
        "\n",
        "custom_model = GlobalAveragePooling2D()(base_model.output)\n",
        "custom_model = Dense(512, activation='relu')(custom_model)\n",
        "custom_model = Dropout(0.5)(custom_model)\n",
        "\n",
        "# Final layer : the number of neurons is equal to the number of classes we want to predict\n",
        "# Since we have more than two classes, we choose 'softmax' as the activation function.\n",
        "custom_model = Dense(1, activation = 'sigmoid')(custom_model)\n",
        "model = Model(inputs=base_model.input, outputs=custom_model)\n",
        "\n",
        "model.compile(loss='binary_crossentropy',\n",
        "              optimizer=tf.keras.optimizers.Adam(lr=0.001),\n",
        "              metrics=['acc'])\n",
        "model.summary()\n"
      ],
      "metadata": {
        "id": "fk8QTFJeqtAO"
      },
      "execution_count": null,
      "outputs": []
    },
    {
      "cell_type": "code",
      "source": [
        "history = model.fit(\n",
        "  train_ds,\n",
        "  validation_data=val_ds,\n",
        "  epochs=25\n",
        ")\n",
        "# Save the model to Keras HDF5 format\n",
        "model.save('./model-finetuned.h5', save_format='h5')\n",
        "           \n",
        "# Save the model to TensorFlow format (for deployment to Google AI Platform)\n",
        "model.save('TFSavedModel', save_format='tf')"
      ],
      "metadata": {
        "colab": {
          "base_uri": "https://localhost:8080/"
        },
        "id": "iDywLMmi8uG1",
        "outputId": "1f2cbf19-f438-4e13-ed48-ae820ba786be"
      },
      "execution_count": 8,
      "outputs": [
        {
          "output_type": "stream",
          "name": "stdout",
          "text": [
            "Epoch 1/25\n",
            "7/7 [==============================] - 17s 572ms/step - loss: 0.5849 - acc: 0.8077 - val_loss: 2.5175e-04 - val_acc: 1.0000\n",
            "Epoch 2/25\n",
            "7/7 [==============================] - 3s 210ms/step - loss: 0.0149 - acc: 0.9952 - val_loss: 6.4462e-11 - val_acc: 1.0000\n",
            "Epoch 3/25\n",
            "7/7 [==============================] - 3s 211ms/step - loss: 0.0036 - acc: 1.0000 - val_loss: 1.0754e-10 - val_acc: 1.0000\n",
            "Epoch 4/25\n",
            "7/7 [==============================] - 3s 209ms/step - loss: 0.0024 - acc: 1.0000 - val_loss: 4.0575e-07 - val_acc: 1.0000\n",
            "Epoch 5/25\n",
            "7/7 [==============================] - 3s 209ms/step - loss: 3.9965e-04 - acc: 1.0000 - val_loss: 4.4808e-05 - val_acc: 1.0000\n",
            "Epoch 6/25\n",
            "7/7 [==============================] - 3s 206ms/step - loss: 8.6537e-04 - acc: 1.0000 - val_loss: 2.5226e-05 - val_acc: 1.0000\n",
            "Epoch 7/25\n",
            "7/7 [==============================] - 3s 208ms/step - loss: 6.4505e-04 - acc: 1.0000 - val_loss: 1.0840e-05 - val_acc: 1.0000\n",
            "Epoch 8/25\n",
            "7/7 [==============================] - 3s 208ms/step - loss: 1.6404e-04 - acc: 1.0000 - val_loss: 1.1158e-05 - val_acc: 1.0000\n",
            "Epoch 9/25\n",
            "7/7 [==============================] - 3s 207ms/step - loss: 2.1621e-04 - acc: 1.0000 - val_loss: 1.6251e-05 - val_acc: 1.0000\n",
            "Epoch 10/25\n",
            "7/7 [==============================] - 3s 209ms/step - loss: 2.8637e-04 - acc: 1.0000 - val_loss: 2.6945e-05 - val_acc: 1.0000\n",
            "Epoch 11/25\n",
            "7/7 [==============================] - 3s 208ms/step - loss: 2.2559e-04 - acc: 1.0000 - val_loss: 4.4257e-05 - val_acc: 1.0000\n",
            "Epoch 12/25\n",
            "7/7 [==============================] - 3s 209ms/step - loss: 0.0018 - acc: 1.0000 - val_loss: 3.2642e-05 - val_acc: 1.0000\n",
            "Epoch 13/25\n",
            "7/7 [==============================] - 3s 210ms/step - loss: 1.0094e-04 - acc: 1.0000 - val_loss: 1.0629e-04 - val_acc: 1.0000\n",
            "Epoch 14/25\n",
            "7/7 [==============================] - 3s 209ms/step - loss: 5.9295e-05 - acc: 1.0000 - val_loss: 2.4346e-04 - val_acc: 1.0000\n",
            "Epoch 15/25\n",
            "7/7 [==============================] - 3s 212ms/step - loss: 2.9973e-04 - acc: 1.0000 - val_loss: 2.5265e-04 - val_acc: 1.0000\n",
            "Epoch 16/25\n",
            "7/7 [==============================] - 3s 209ms/step - loss: 1.0589e-04 - acc: 1.0000 - val_loss: 3.4999e-05 - val_acc: 1.0000\n",
            "Epoch 17/25\n",
            "7/7 [==============================] - 3s 210ms/step - loss: 9.7268e-05 - acc: 1.0000 - val_loss: 2.2608e-05 - val_acc: 1.0000\n",
            "Epoch 18/25\n",
            "7/7 [==============================] - 3s 214ms/step - loss: 8.8029e-05 - acc: 1.0000 - val_loss: 2.7012e-05 - val_acc: 1.0000\n",
            "Epoch 19/25\n",
            "7/7 [==============================] - 3s 208ms/step - loss: 2.0830e-04 - acc: 1.0000 - val_loss: 3.7682e-05 - val_acc: 1.0000\n",
            "Epoch 20/25\n",
            "7/7 [==============================] - 3s 210ms/step - loss: 5.7919e-05 - acc: 1.0000 - val_loss: 5.5743e-05 - val_acc: 1.0000\n",
            "Epoch 21/25\n",
            "7/7 [==============================] - 3s 214ms/step - loss: 1.3785e-04 - acc: 1.0000 - val_loss: 9.0712e-05 - val_acc: 1.0000\n",
            "Epoch 22/25\n",
            "7/7 [==============================] - 3s 210ms/step - loss: 6.9731e-05 - acc: 1.0000 - val_loss: 1.5350e-04 - val_acc: 1.0000\n",
            "Epoch 23/25\n",
            "7/7 [==============================] - 3s 214ms/step - loss: 1.3823e-04 - acc: 1.0000 - val_loss: 2.5663e-04 - val_acc: 1.0000\n",
            "Epoch 24/25\n",
            "7/7 [==============================] - 3s 211ms/step - loss: 4.9430e-05 - acc: 1.0000 - val_loss: 5.5787e-04 - val_acc: 1.0000\n",
            "Epoch 25/25\n",
            "7/7 [==============================] - 3s 237ms/step - loss: 3.0288e-05 - acc: 1.0000 - val_loss: 8.0229e-04 - val_acc: 1.0000\n"
          ]
        },
        {
          "output_type": "stream",
          "name": "stderr",
          "text": [
            "WARNING:absl:Found untraced functions such as _jit_compiled_convolution_op, _jit_compiled_convolution_op, _jit_compiled_convolution_op, _jit_compiled_convolution_op, _jit_compiled_convolution_op while saving (showing 5 of 53). These functions will not be directly callable after loading.\n"
          ]
        }
      ]
    },
    {
      "cell_type": "code",
      "source": [
        "# Load the saved model\n",
        "model = load_model('./model-finetuned.h5')"
      ],
      "metadata": {
        "id": "0dlDmOKnCr4T"
      },
      "execution_count": null,
      "outputs": []
    },
    {
      "cell_type": "code",
      "source": [
        "print(class_names)"
      ],
      "metadata": {
        "colab": {
          "base_uri": "https://localhost:8080/"
        },
        "id": "1dHRjj4mEDsU",
        "outputId": "aa28a452-050d-40d8-9513-17c97e693923"
      },
      "execution_count": 19,
      "outputs": [
        {
          "output_type": "stream",
          "name": "stdout",
          "text": [
            "['goldendoodle', 'goldenretreiver']\n"
          ]
        }
      ]
    },
    {
      "cell_type": "code",
      "source": [
        "# Testing the model now \n",
        "\n",
        "from tensorflow.keras.preprocessing import image\n",
        "\n",
        "files = list() # List of files retrieved from the directory\n",
        "top_predictions = []\n",
        "\n",
        "testset_url = \"/content/test/test/\"\n",
        "test_dir = pathlib.Path(testset_url)\n",
        "\n",
        "image_count = len(list(test_dir.glob('*')))\n",
        "print(image_count)\n",
        "files = list(test_dir.glob('*.jpg'))\n",
        "\n",
        "#Show results\n",
        "num_row = 2\n",
        "num_col = 3# plot images\n",
        "num = num_row*num_col\n",
        "\n",
        "fig, axes = plt.subplots(num_row, num_col, figsize=(1.5*num_col,2*num_row))\n",
        "count = 0\n",
        "# Pre-process each image and feed it to the model to get a prediction\n",
        "for i in files:\n",
        "    # Transform each image into a Tensor\n",
        "    img = image.load_img(i, target_size=(IMG_HEIGHT, IMG_WIDTH))\n",
        "    img_array = image.img_to_array(img)\n",
        "    img_batch = np.expand_dims(img_array, axis=0)\n",
        "    img_preprocessed = preprocess_input(img_batch)\n",
        "    \n",
        "    # Get predictions from the model    \n",
        "    prediction = model.predict(img_preprocessed)\n",
        "    # Get index of prediction with the highest probability\n",
        "    top_index = np.argmax(prediction)\n",
        "    top_predictions.append(class_names[top_index])\n",
        "\n",
        "    ax = axes[count//num_col, count%num_col]\n",
        "    ax.imshow(img)\n",
        "    ax.set_title('Label: {}'.format(top_index))\n",
        "    count = count + 1\n",
        "    #\n",
        "\n",
        "plt.tight_layout()\n",
        "plt.show()"
      ],
      "metadata": {
        "colab": {
          "base_uri": "https://localhost:8080/",
          "height": 389
        },
        "id": "xL9P_Chh-Gdb",
        "outputId": "bd746637-4de8-4421-9899-70a9740e9dd1"
      },
      "execution_count": 25,
      "outputs": [
        {
          "output_type": "stream",
          "name": "stdout",
          "text": [
            "7\n",
            "1/1 [==============================] - 0s 23ms/step\n",
            "1/1 [==============================] - 0s 22ms/step\n",
            "1/1 [==============================] - 0s 21ms/step\n",
            "1/1 [==============================] - 0s 22ms/step\n",
            "1/1 [==============================] - 0s 25ms/step\n",
            "1/1 [==============================] - 0s 28ms/step\n"
          ]
        },
        {
          "output_type": "display_data",
          "data": {
            "text/plain": [
              "<Figure size 324x288 with 6 Axes>"
            ],
            "image/png": "[encoded data removed]"
          },
          "metadata": {
            "needs_background": "light"
          }
        }
      ]
    },
    {
      "cell_type": "code",
      "source": [],
      "metadata": {
        "id": "2YSLzcOc_xLe"
      },
      "execution_count": null,
      "outputs": []
    },
    {
      "cell_type": "code",
      "execution_count": null,
      "metadata": {
        "id": "tweROCAqKjdH"
      },
      "outputs": [],
      "source": [
        "\n",
        "num_classes = len(class_names)\n",
        "  \n",
        "model = Sequential([\n",
        "    layers.Rescaling(1./255, input_shape=(180,180, 3)),\n",
        "    layers.Conv2D(16, 3, padding='same', activation='relu'),\n",
        "    layers.MaxPooling2D(),\n",
        "    layers.Conv2D(32, 3, padding='same', activation='relu'),\n",
        "    layers.MaxPooling2D(),\n",
        "    layers.Conv2D(64, 3, padding='same', activation='relu'),\n",
        "    layers.MaxPooling2D(),\n",
        "    layers.Flatten(),\n",
        "    layers.Dense(128, activation='relu'),\n",
        "    layers.Dense(num_classes)\n",
        "])\n",
        "model.compile(optimizer='adam',\n",
        "              loss=tf.keras.losses.SparseCategoricalCrossentropy(\n",
        "                  from_logits=True),\n",
        "              metrics=['accuracy'])\n",
        "model.summary()\n",
        "\n",
        "epochs=10\n",
        "history = model.fit(\n",
        "  train_ds,\n",
        "  validation_data=val_ds,\n",
        "  epochs=epochs\n",
        ")"
      ]
    },
    {
      "cell_type": "code",
      "source": [
        "!ngrok authtoken 2EuBkh4dDyaO8W08FbMuDmgU4NP_5pwyoprCYeR3eAWZzin7S"
      ],
      "metadata": {
        "colab": {
          "base_uri": "https://localhost:8080/"
        },
        "id": "RfkRpMmVbdxz",
        "outputId": "9694263b-149e-483e-8d33-a33d01368f5b"
      },
      "execution_count": null,
      "outputs": [
        {
          "output_type": "stream",
          "name": "stdout",
          "text": [
            "Authtoken saved to configuration file: /root/.ngrok2/ngrok.yml\n"
          ]
        }
      ]
    },
    {
      "cell_type": "code",
      "source": [
        "from pyngrok import ngrok \n",
        "public_url = ngrok.connect(port='8501')\n",
        "public_url"
      ],
      "metadata": {
        "id": "SzL8T2f5aUUy"
      },
      "execution_count": null,
      "outputs": []
    },
    {
      "cell_type": "code",
      "source": [
        "%%writefile streamlit_app.py\n",
        "import streamlit as st \n",
        "\n",
        "def main():\n",
        "\tst.title(\"Awesome Streamlit for ML\")\n",
        "\tst.subheader(\"How to run streamlit from colab\")\n",
        "\tuploaded_file = st.file_uploader(\"Choose a file\")\n",
        "  img = image.load_img(i, target_size=(IMG_HEIGHT, IMG_WIDTH))\n",
        "  img_array = image.img_to_array(img)\n",
        "    img_batch = np.expand_dims(img_array, axis=0)\n",
        "    img_preprocessed = preprocess_input(img_batch)\n",
        "    \n",
        "    # Get predictions from the model    \n",
        "    prediction = model.predict(img_preprocessed)\n",
        "    \n",
        "    # Get index of prediction with the highest probability\n",
        "    top_index = np.argmax(prediction)\n",
        "    top_predictions.append(labels[top_index])\n",
        "\t\n",
        "if __name__ == '__main__':\n",
        "\tmain()\n",
        "\n",
        "\n",
        "#!nohub streamlit run app.py &"
      ],
      "metadata": {
        "colab": {
          "base_uri": "https://localhost:8080/"
        },
        "id": "fgsZKTKVaXQj",
        "outputId": "7862d32c-329e-4a00-da96-8b5211ae1e5b"
      },
      "execution_count": null,
      "outputs": [
        {
          "output_type": "stream",
          "name": "stdout",
          "text": [
            "Overwriting streamlit_app.py\n"
          ]
        }
      ]
    },
    {
      "cell_type": "code",
      "source": [
        "!streamlit run /content/streamlit_app.py  & npx localtunnel --port 8501"
      ],
      "metadata": {
        "colab": {
          "base_uri": "https://localhost:8080/"
        },
        "id": "iB0ILOWmbCd8",
        "outputId": "e6598bb2-9ab1-451d-d75f-b65b97d719db"
      },
      "execution_count": null,
      "outputs": [
        {
          "metadata": {
            "tags": null
          },
          "name": "stdout",
          "output_type": "stream",
          "text": [
            "2022-10-23 04:55:30.335 INFO    numexpr.utils: NumExpr defaulting to 2 threads.\n",
            "\u001b[K\u001b[?25h\n",
            "Collecting usage statistics. To deactivate, set browser.gatherUsageStats to False.\n",
            "\u001b[0m\n",
            "\u001b[0m\n",
            "\u001b[34m\u001b[1m  You can now view your Streamlit app in your browser.\u001b[0m\n",
            "\u001b[0m\n",
            "\u001b[34m  Network URL: \u001b[0m\u001b[1mhttp://172.28.0.2:8501\u001b[0m\n",
            "\u001b[34m  External URL: \u001b[0m\u001b[1mhttp://34.83.145.224:8501\u001b[0m\n",
            "\u001b[0m\n"
          ]
        }
      ]
    },
    {
      "cell_type": "code",
      "execution_count": null,
      "metadata": {
        "id": "rObDAEt_KjdI",
        "colab": {
          "base_uri": "https://localhost:8080/",
          "height": 499
        },
        "outputId": "cb10fdb4-a2ec-42ae-b791-ccb9df557a42"
      },
      "outputs": [
        {
          "output_type": "display_data",
          "data": {
            "text/plain": [
              "<Figure size 576x576 with 2 Axes>"
            ],
            "image/png": "[encoded data removed]"
          },
          "metadata": {
            "needs_background": "light"
          }
        }
      ],
      "source": [
        "#Accuracy\n",
        "acc = history.history['accuracy']\n",
        "val_acc = history.history['val_accuracy']\n",
        "  \n",
        "#loss\n",
        "loss = history.history['loss']\n",
        "val_loss = history.history['val_loss']\n",
        "  \n",
        "#epochs \n",
        "epochs_range = range(epochs)\n",
        "  \n",
        "#Plotting graphs\n",
        "plt.figure(figsize=(8, 8))\n",
        "plt.subplot(1, 2, 1)\n",
        "plt.plot(epochs_range, acc, label='Training Accuracy')\n",
        "plt.plot(epochs_range, val_acc, label='Validation Accuracy')\n",
        "plt.legend(loc='lower right')\n",
        "plt.title('Training and Validation Accuracy')\n",
        "  \n",
        "plt.subplot(1, 2, 2)\n",
        "plt.plot(epochs_range, loss, label='Training Loss')\n",
        "plt.plot(epochs_range, val_loss, label='Validation Loss')\n",
        "plt.legend(loc='upper right')\n",
        "plt.title('Training and Validation Loss')\n",
        "plt.show()"
      ]
    }
  ],
  "metadata": {
    "kernelspec": {
      "display_name": "Python 3 (ipykernel)",
      "language": "python",
      "name": "python3"
    },
    "language_info": {
      "codemirror_mode": {
        "name": "ipython",
        "version": 3
      },
      "file_extension": ".py",
      "mimetype": "text/x-python",
      "name": "python",
      "nbconvert_exporter": "python",
      "pygments_lexer": "ipython3",
      "version": "3.10.4"
    },
    "colab": {
      "provenance": [],
      "include_colab_link": true
    },
    "accelerator": "GPU"
  },
  "nbformat": 4,
  "nbformat_minor": 0
}